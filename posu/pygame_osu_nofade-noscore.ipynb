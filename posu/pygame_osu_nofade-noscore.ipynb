{
 "cells": [
  {
   "cell_type": "code",
   "execution_count": 12,
   "id": "9ac3f561-cdb8-44f1-9934-b9d4356e22e7",
   "metadata": {},
   "outputs": [],
   "source": [
    "import pygame\n",
    "import numpy as np\n",
    "import matplotlib.pyplot as plt\n",
    "import math\n",
    "from beatmapparser import *\n",
    "import beatmapparser\n",
    "from curve import *\n",
    "from slidercalc import *"
   ]
  },
  {
   "cell_type": "code",
   "execution_count": 13,
   "id": "43a1dcc3-d387-474f-9278-ec8555d43bb9",
   "metadata": {},
   "outputs": [],
   "source": [
    "parser = beatmapparser.BeatmapParser()\n",
    "parser.parseFile('leaf.osu')\n",
    "beatmap_d = parser.build_beatmap()"
   ]
  },
  {
   "cell_type": "code",
   "execution_count": 14,
   "id": "5ed9f867",
   "metadata": {},
   "outputs": [],
   "source": [
    "WHITE = (255, 255, 255)\n",
    "BLACK = (0, 0, 0)\n",
    "\n",
    "def dist(p1, p2):\n",
    "    return (p1[0] - p2[0]) ** 2 + (p1[1] - p2[1]) ** 2"
   ]
  },
  {
   "cell_type": "code",
   "execution_count": 15,
   "id": "fd207a46-614a-4c18-a3ba-4e6615215a7c",
   "metadata": {},
   "outputs": [],
   "source": [
    "class Circle:\n",
    "    def __init__(self, center, startTime, radius=20, approachRate=1000, stacked=0):\n",
    "        self.center = center\n",
    "        self.radius = radius\n",
    "        self.startTime = startTime\n",
    "        self.approachRate = approachRate\n",
    "        self.appear = startTime - approachRate\n",
    "        self.disappear = startTime + approachRate // 4\n",
    "        self.hit = False\n",
    "        \n",
    "        self.stacked = stacked\n",
    "        if stacked:\n",
    "            self.center = (center[0] + 4 * stacked, center[1] + 4 * stacked)\n",
    "    \n",
    "    def draw(self, screen, time):\n",
    "        if self.hit: return\n",
    "        pygame.draw.circle(screen, WHITE, self.center, self.radius)\n",
    "        pygame.draw.circle(screen, BLACK, self.center, self.radius - 2)\n",
    "    \n",
    "    def draw_approach_circle(self, screen, time):\n",
    "        if self.hit: return\n",
    "        if time < self.startTime:\n",
    "            pygame.draw.circle(screen, WHITE, self.center, self.radius + 3 * (self.startTime / (self.startTime - self.appear) - (1 / (self.startTime - self.appear)) * time) * self.radius, width=2)\n",
    "        "
   ]
  },
  {
   "cell_type": "code",
   "execution_count": 16,
   "id": "4b6e683f-2ea9-4f86-ab3e-e08d57b7cabe",
   "metadata": {},
   "outputs": [],
   "source": [
    "class Slider:\n",
    "    def __init__(self, startTime, endTime, points, repeatCount, radius=20, approach=1000):\n",
    "        self.startTime = startTime\n",
    "        self.endTime = endTime\n",
    "        self.appear = startTime - approach\n",
    "        self.disappear = endTime + approach // 4\n",
    "        self.approach = approach\n",
    "        self.points = points\n",
    "        self.numPoints = len(points)\n",
    "        self.repeatCount = repeatCount\n",
    "        self.radius = radius\n",
    "        \n",
    "        self.initial_center = points[0]\n",
    "        \n",
    "    def draw(self, screen, time):\n",
    "        # draw slider body\n",
    "        for t in np.arange(0, 1, 0.001):\n",
    "            px = sum([self.points[i][0] * (1 - t) ** (self.numPoints - i - 1) * t ** (i) * math.comb(self.numPoints - 1, i) for i in range(self.numPoints)])\n",
    "            py = sum([self.points[i][1] * (1 - t) ** (self.numPoints - i - 1) * t ** (i) * math.comb(self.numPoints - 1, i) for i in range(self.numPoints)])\n",
    "            pygame.draw.circle(screen, WHITE, (px, py), self.radius)\n",
    "        for t in np.arange(0, 1, 0.001):\n",
    "            px = sum([self.points[i][0] * (1 - t) ** (self.numPoints - i - 1) * t ** (i) * math.comb(self.numPoints - 1, i) for i in range(self.numPoints)])\n",
    "            py = sum([self.points[i][1] * (1 - t) ** (self.numPoints - i - 1) * t ** (i) * math.comb(self.numPoints - 1, i) for i in range(self.numPoints)])\n",
    "            pygame.draw.circle(screen, BLACK, (px, py), self.radius - 2)\n",
    "        \n",
    "        # these keep the circle in the ending position\n",
    "        if time < self.startTime:\n",
    "            pygame.draw.circle(screen, WHITE, self.points[0], self.radius, width=2)\n",
    "        if time > self.endTime:\n",
    "            end_points = self.points[0] if self.repeatCount % 2 == 0 else self.points[-1]\n",
    "            pygame.draw.circle(screen, WHITE, end_points, self.radius, width=2)\n",
    "        \n",
    "        # draw sliding hit circle\n",
    "        if self.startTime < time < self.endTime:\n",
    "            # repeat logic\n",
    "            one = (self.endTime - self.startTime) / self.repeatCount \n",
    "            rep_num = (time - self.startTime) // one\n",
    "            time_within_rep = (time - self.startTime) % one\n",
    "            t = time_within_rep / one\n",
    "            if rep_num % 2 != 0:\n",
    "                t = 1 - t\n",
    "            \n",
    "            # draw circle\n",
    "            cx = sum([self.points[i][0] * (1 - t) ** (self.numPoints - i - 1) * t ** (i) * math.comb(self.numPoints - 1, i) for i in range(self.numPoints)])\n",
    "            cy = sum([self.points[i][1] * (1 - t) ** (self.numPoints - i - 1) * t ** (i) * math.comb(self.numPoints - 1, i) for i in range(self.numPoints)])\n",
    "            pygame.draw.circle(screen, WHITE, (cx, cy), self.radius, width=2)\n",
    "    \n",
    "    def draw_approach_circle(self, screen, time):\n",
    "        # approach circle for initial point to hit\n",
    "        if time < self.startTime:\n",
    "            pygame.draw.circle(screen, WHITE, self.initial_center, self.radius + 3 * (self.startTime / (self.startTime - self.appear) - (1 / (self.startTime - self.appear)) * time) * self.radius, width=2)\n",
    "                            "
   ]
  },
  {
   "cell_type": "code",
   "execution_count": 17,
   "id": "57731038",
   "metadata": {},
   "outputs": [],
   "source": [
    "class Frame:\n",
    "    def __init__(self, hitObjects):\n",
    "        self.hitObjects = sorted(hitObjects, key=lambda x: x.startTime, reverse=True)\n",
    "    \n",
    "    def draw(self, screen, time):\n",
    "        if not self.hitObjects: return\n",
    "        for obj in self.hitObjects:\n",
    "            obj.draw(screen, time)\n",
    "        \n",
    "        for obj in self.hitObjects:\n",
    "            obj.draw_approach_circle(screen, time)"
   ]
  },
  {
   "cell_type": "code",
   "execution_count": 18,
   "id": "48804d2f-bd93-4087-bd5a-a81d01bb3b0d",
   "metadata": {},
   "outputs": [],
   "source": [
    "def FormatParsedBeatmap(beatmap_d: dict):\n",
    "    hitObjects = []\n",
    "    for i in range(500):\n",
    "        if beatmap_d['hitObjects'][i]['object_name'] == 'slider':\n",
    "            obj = Slider(\n",
    "                startTime=beatmap_d['hitObjects'][i]['startTime'],\n",
    "                endTime=beatmap_d['hitObjects'][i]['end_time'],\n",
    "                points=beatmap_d['hitObjects'][i]['points'],\n",
    "                repeatCount=beatmap_d['hitObjects'][i]['repeatCount']\n",
    "            )\n",
    "        elif beatmap_d['hitObjects'][i]['object_name'] == 'circle':\n",
    "            stacked = 0\n",
    "            if beatmap_d['hitObjects'][i - 1]['object_name'] == 'circle':\n",
    "                if beatmap_d['hitObjects'][i - 1]['position'] == beatmap_d['hitObjects'][i]['position']:\n",
    "                    stacked = hitObjects[-1].stacked + 1\n",
    "            obj = Circle(\n",
    "                center=beatmap_d['hitObjects'][i]['position'],\n",
    "                startTime=beatmap_d['hitObjects'][i]['startTime'],\n",
    "                stacked=stacked\n",
    "            )\n",
    "        hitObjects.append(obj)\n",
    "    return hitObjects\n"
   ]
  },
  {
   "cell_type": "code",
   "execution_count": 19,
   "id": "eb1a410c-f835-429d-aa83-4c07e2649e8c",
   "metadata": {},
   "outputs": [],
   "source": [
    "hitObjects = FormatParsedBeatmap(beatmap_d)"
   ]
  },
  {
   "cell_type": "code",
   "execution_count": 20,
   "id": "b47629a4-bef5-4fcc-ab60-ef8980fff316",
   "metadata": {
    "scrolled": true,
    "tags": []
   },
   "outputs": [
    {
     "ename": "KeyboardInterrupt",
     "evalue": "",
     "output_type": "error",
     "traceback": [
      "\u001b[0;31m---------------------------------------------------------------------------\u001b[0m",
      "\u001b[0;31mKeyboardInterrupt\u001b[0m                         Traceback (most recent call last)",
      "Cell \u001b[0;32mIn[20], line 27\u001b[0m\n\u001b[1;32m     24\u001b[0m         objs\u001b[38;5;241m.\u001b[39mappend(obj)\n\u001b[1;32m     26\u001b[0m frame \u001b[38;5;241m=\u001b[39m Frame(objs)\n\u001b[0;32m---> 27\u001b[0m \u001b[43mframe\u001b[49m\u001b[38;5;241;43m.\u001b[39;49m\u001b[43mdraw\u001b[49m\u001b[43m(\u001b[49m\u001b[43mscreen\u001b[49m\u001b[43m,\u001b[49m\u001b[43m \u001b[49m\u001b[43mpygame\u001b[49m\u001b[38;5;241;43m.\u001b[39;49m\u001b[43mtime\u001b[49m\u001b[38;5;241;43m.\u001b[39;49m\u001b[43mget_ticks\u001b[49m\u001b[43m(\u001b[49m\u001b[43m)\u001b[49m\u001b[43m)\u001b[49m\n\u001b[1;32m     29\u001b[0m pygame\u001b[38;5;241m.\u001b[39mdisplay\u001b[38;5;241m.\u001b[39mflip()\n\u001b[1;32m     30\u001b[0m pygame\u001b[38;5;241m.\u001b[39mdisplay\u001b[38;5;241m.\u001b[39mupdate()\n",
      "Cell \u001b[0;32mIn[17], line 8\u001b[0m, in \u001b[0;36mFrame.draw\u001b[0;34m(self, screen, time)\u001b[0m\n\u001b[1;32m      6\u001b[0m \u001b[38;5;28;01mif\u001b[39;00m \u001b[38;5;129;01mnot\u001b[39;00m \u001b[38;5;28mself\u001b[39m\u001b[38;5;241m.\u001b[39mhitObjects: \u001b[38;5;28;01mreturn\u001b[39;00m\n\u001b[1;32m      7\u001b[0m \u001b[38;5;28;01mfor\u001b[39;00m obj \u001b[38;5;129;01min\u001b[39;00m \u001b[38;5;28mself\u001b[39m\u001b[38;5;241m.\u001b[39mhitObjects:\n\u001b[0;32m----> 8\u001b[0m     \u001b[43mobj\u001b[49m\u001b[38;5;241;43m.\u001b[39;49m\u001b[43mdraw\u001b[49m\u001b[43m(\u001b[49m\u001b[43mscreen\u001b[49m\u001b[43m,\u001b[49m\u001b[43m \u001b[49m\u001b[43mtime\u001b[49m\u001b[43m)\u001b[49m\n\u001b[1;32m     10\u001b[0m \u001b[38;5;28;01mfor\u001b[39;00m obj \u001b[38;5;129;01min\u001b[39;00m \u001b[38;5;28mself\u001b[39m\u001b[38;5;241m.\u001b[39mhitObjects:\n\u001b[1;32m     11\u001b[0m     obj\u001b[38;5;241m.\u001b[39mdraw_approach_circle(screen, time)\n",
      "Cell \u001b[0;32mIn[16], line 24\u001b[0m, in \u001b[0;36mSlider.draw\u001b[0;34m(self, screen, time)\u001b[0m\n\u001b[1;32m     22\u001b[0m     px \u001b[38;5;241m=\u001b[39m \u001b[38;5;28msum\u001b[39m([\u001b[38;5;28mself\u001b[39m\u001b[38;5;241m.\u001b[39mpoints[i][\u001b[38;5;241m0\u001b[39m] \u001b[38;5;241m*\u001b[39m (\u001b[38;5;241m1\u001b[39m \u001b[38;5;241m-\u001b[39m t) \u001b[38;5;241m*\u001b[39m\u001b[38;5;241m*\u001b[39m (\u001b[38;5;28mself\u001b[39m\u001b[38;5;241m.\u001b[39mnumPoints \u001b[38;5;241m-\u001b[39m i \u001b[38;5;241m-\u001b[39m \u001b[38;5;241m1\u001b[39m) \u001b[38;5;241m*\u001b[39m t \u001b[38;5;241m*\u001b[39m\u001b[38;5;241m*\u001b[39m (i) \u001b[38;5;241m*\u001b[39m math\u001b[38;5;241m.\u001b[39mcomb(\u001b[38;5;28mself\u001b[39m\u001b[38;5;241m.\u001b[39mnumPoints \u001b[38;5;241m-\u001b[39m \u001b[38;5;241m1\u001b[39m, i) \u001b[38;5;28;01mfor\u001b[39;00m i \u001b[38;5;129;01min\u001b[39;00m \u001b[38;5;28mrange\u001b[39m(\u001b[38;5;28mself\u001b[39m\u001b[38;5;241m.\u001b[39mnumPoints)])\n\u001b[1;32m     23\u001b[0m     py \u001b[38;5;241m=\u001b[39m \u001b[38;5;28msum\u001b[39m([\u001b[38;5;28mself\u001b[39m\u001b[38;5;241m.\u001b[39mpoints[i][\u001b[38;5;241m1\u001b[39m] \u001b[38;5;241m*\u001b[39m (\u001b[38;5;241m1\u001b[39m \u001b[38;5;241m-\u001b[39m t) \u001b[38;5;241m*\u001b[39m\u001b[38;5;241m*\u001b[39m (\u001b[38;5;28mself\u001b[39m\u001b[38;5;241m.\u001b[39mnumPoints \u001b[38;5;241m-\u001b[39m i \u001b[38;5;241m-\u001b[39m \u001b[38;5;241m1\u001b[39m) \u001b[38;5;241m*\u001b[39m t \u001b[38;5;241m*\u001b[39m\u001b[38;5;241m*\u001b[39m (i) \u001b[38;5;241m*\u001b[39m math\u001b[38;5;241m.\u001b[39mcomb(\u001b[38;5;28mself\u001b[39m\u001b[38;5;241m.\u001b[39mnumPoints \u001b[38;5;241m-\u001b[39m \u001b[38;5;241m1\u001b[39m, i) \u001b[38;5;28;01mfor\u001b[39;00m i \u001b[38;5;129;01min\u001b[39;00m \u001b[38;5;28mrange\u001b[39m(\u001b[38;5;28mself\u001b[39m\u001b[38;5;241m.\u001b[39mnumPoints)])\n\u001b[0;32m---> 24\u001b[0m     \u001b[43mpygame\u001b[49m\u001b[38;5;241;43m.\u001b[39;49m\u001b[43mdraw\u001b[49m\u001b[38;5;241;43m.\u001b[39;49m\u001b[43mcircle\u001b[49m\u001b[43m(\u001b[49m\u001b[43mscreen\u001b[49m\u001b[43m,\u001b[49m\u001b[43m \u001b[49m\u001b[43mBLACK\u001b[49m\u001b[43m,\u001b[49m\u001b[43m \u001b[49m\u001b[43m(\u001b[49m\u001b[43mpx\u001b[49m\u001b[43m,\u001b[49m\u001b[43m \u001b[49m\u001b[43mpy\u001b[49m\u001b[43m)\u001b[49m\u001b[43m,\u001b[49m\u001b[43m \u001b[49m\u001b[38;5;28;43mself\u001b[39;49m\u001b[38;5;241;43m.\u001b[39;49m\u001b[43mradius\u001b[49m\u001b[43m \u001b[49m\u001b[38;5;241;43m-\u001b[39;49m\u001b[43m \u001b[49m\u001b[38;5;241;43m2\u001b[39;49m\u001b[43m)\u001b[49m\n\u001b[1;32m     26\u001b[0m \u001b[38;5;66;03m# these keep the circle in the ending position\u001b[39;00m\n\u001b[1;32m     27\u001b[0m \u001b[38;5;28;01mif\u001b[39;00m time \u001b[38;5;241m<\u001b[39m \u001b[38;5;28mself\u001b[39m\u001b[38;5;241m.\u001b[39mstartTime:\n",
      "\u001b[0;31mKeyboardInterrupt\u001b[0m: "
     ]
    }
   ],
   "source": [
    "import sys, pygame\n",
    "from pygame.locals import *\n",
    "pygame.quit()\n",
    "pygame.init()\n",
    "\n",
    "size = width, height = 512, 383\n",
    "clock = pygame.time.Clock()\n",
    "\n",
    "screen = pygame.display.set_mode(size, DOUBLEBUF, 16)\n",
    "screen.fill(BLACK)\n",
    "\n",
    "run = True\n",
    "\n",
    "while run:\n",
    "    for event in pygame.event.get():\n",
    "        if event.type == pygame.QUIT: \n",
    "            run = False\n",
    "            \n",
    "    screen.fill(BLACK)\n",
    "    \n",
    "    objs = []\n",
    "    for obj in hitObjects:\n",
    "        if obj.appear < pygame.time.get_ticks() < obj.disappear:\n",
    "            objs.append(obj)\n",
    "\n",
    "    frame = Frame(objs)\n",
    "    frame.draw(screen, pygame.time.get_ticks())\n",
    "    \n",
    "    pygame.display.flip()\n",
    "    pygame.display.update()\n",
    "    \n",
    "    if pygame.time.get_ticks() > hitObjects[-1].disappear + 5000:\n",
    "        run = False\n",
    "    \n",
    "    clock.tick(60)\n"
   ]
  },
  {
   "cell_type": "code",
   "execution_count": null,
   "id": "73b2c825",
   "metadata": {},
   "outputs": [],
   "source": []
  }
 ],
 "metadata": {
  "kernelspec": {
   "display_name": "Python 3 (ipykernel)",
   "language": "python",
   "name": "python3"
  },
  "language_info": {
   "codemirror_mode": {
    "name": "ipython",
    "version": 3
   },
   "file_extension": ".py",
   "mimetype": "text/x-python",
   "name": "python",
   "nbconvert_exporter": "python",
   "pygments_lexer": "ipython3",
   "version": "3.8.15"
  }
 },
 "nbformat": 4,
 "nbformat_minor": 5
}
